{
 "cells": [
  {
   "cell_type": "code",
   "execution_count": 3,
   "id": "f6e3d000",
   "metadata": {},
   "outputs": [],
   "source": [
    "import math"
   ]
  },
  {
   "cell_type": "code",
   "execution_count": 4,
   "id": "d60b30fd",
   "metadata": {},
   "outputs": [],
   "source": [
    "def F(B,C,D):\n",
    "    return (B & C) | (~B & D)\n",
    "\n",
    "def G(B,C,D):\n",
    "    return (B & D) | (C & ~D)\n",
    "\n",
    "def H(B,C,D):\n",
    "    return B ^ C ^ D\n",
    "\n",
    "def I(B,C,D):\n",
    "    return C ^ (B | ~D)"
   ]
  },
  {
   "cell_type": "code",
   "execution_count": 5,
   "id": "76d6d675",
   "metadata": {},
   "outputs": [],
   "source": [
    "def custom_md5(m: str, h0: int) -> str:\n",
    "    # Argumentos:\n",
    "    #    m:   str - mensaje\n",
    "    #    h0: int - constante  inicial  H_0\n",
    "    # Retorna:\n",
    "    #    str - hash  MD5  correcto  del  mensaje  en  formato  hexadecimal\n",
    "    \n",
    "    # PADDING\n",
    "    m = bytearray(m, encoding='utf-8')\n",
    "    orig_len_in_bits = (8 * len(m)) & 0xffffffffffffffff\n",
    "    m.append(0x80)\n",
    "    while len(m) % 64 != 56:\n",
    "        m.append(0)\n",
    "    m += orig_len_in_bits.to_bytes(8, byteorder='little')\n",
    "    chunks = [m[i:i+64] for i in range(0, len(m), 64)]\n",
    "    \n",
    "    # Define s and K\n",
    "    s = [0 for i in range(64)] \n",
    "    s[ 0:16] = [ 7, 12, 17, 22,  7, 12, 17, 22,  7, 12, 17, 22,  7, 12, 17, 22 ]\n",
    "    s[16:32] = [ 5,  9, 14, 20,  5,  9, 14, 20,  5,  9, 14, 20,  5,  9, 14, 20 ]\n",
    "    s[32:48] = [ 4, 11, 16, 23,  4, 11, 16, 23,  4, 11, 16, 23,  4, 11, 16, 23 ]\n",
    "    s[48:64] = [ 6, 10, 15, 21,  6, 10, 15, 21,  6, 10, 15, 21,  6, 10, 15, 21 ]\n",
    "    \n",
    "    K = [0 for i in range(64)]\n",
    "    for i in range(64):\n",
    "        K[i] = math.floor(2**32 * abs(math.sin(i + 1)))\n",
    "    \n",
    "    A = (h0 // 2**(32*3)) & 0xFFFFFFFF\n",
    "    B = (h0 // 2**(32*2) - A * 2**32) & 0xFFFFFFFF\n",
    "    C = (h0 // 2**(32) - A * 2**(32*2) - B * 2**32) & 0xFFFFFFFF\n",
    "    D = (h0 - A * 2**(32*3) - B * 2**(32*2) - C * 2**32) & 0xFFFFFFFF\n",
    "    \n",
    "    for chunk in chunks:\n",
    "        M = [chunk[chk:chk+4] for chk in range(0, 64, 4)]\n",
    "        a,b,c,d = A,B,C,D\n",
    "        # Main loop\n",
    "        for i in range(64):\n",
    "            f = ''\n",
    "            g = 0\n",
    "            if 0 <= i <= 15:\n",
    "                f = F(b,c,d)\n",
    "                g = i\n",
    "            elif 16 <= i <= 31:\n",
    "                f = G(b,c,d)\n",
    "                g = (5*i + 1) % 16\n",
    "            elif 32 <= i <= 47:\n",
    "                f = H(b,c,d)\n",
    "                g = (3*i + 5) % 16\n",
    "            elif 48 <= i <= 63:\n",
    "                f = I(b,c,d)\n",
    "                g = (7*i) % 16\n",
    "            f = (f + a + K[i] + int.from_bytes(M[g], byteorder='little')) & 0xFFFFFFFF\n",
    "            a = d\n",
    "            d = c\n",
    "            c = b\n",
    "            b = (b + (((f << s[i]) & 0xFFFFFFFF) | (f >> (32-s[i])))) & 0xFFFFFFFF\n",
    "        A = (A + a) & 0xFFFFFFFF\n",
    "        B = (B + b) & 0xFFFFFFFF\n",
    "        C = (C + c) & 0xFFFFFFFF\n",
    "        D = (D + d) & 0xFFFFFFFF\n",
    "    final_value = A + (B << 32) + (C << 32*2) + (D << 32*3)\n",
    "    digest = final_value.to_bytes(16, byteorder='little')\n",
    "    return f'{int.from_bytes(digest, byteorder=\"big\"):032x}'"
   ]
  },
  {
   "cell_type": "code",
   "execution_count": 6,
   "id": "e59691e6",
   "metadata": {},
   "outputs": [
    {
     "data": {
      "text/plain": [
       "'d1f40d5352cc414e87d68560c22054b0'"
      ]
     },
     "execution_count": 6,
     "metadata": {},
     "output_type": "execute_result"
    }
   ],
   "source": [
    "custom_md5('hola', 12446846845685)"
   ]
  },
  {
   "cell_type": "code",
   "execution_count": null,
   "id": "b0a69fd1",
   "metadata": {},
   "outputs": [],
   "source": []
  }
 ],
 "metadata": {
  "kernelspec": {
   "display_name": "Python 3",
   "language": "python",
   "name": "python3"
  },
  "language_info": {
   "codemirror_mode": {
    "name": "ipython",
    "version": 3
   },
   "file_extension": ".py",
   "mimetype": "text/x-python",
   "name": "python",
   "nbconvert_exporter": "python",
   "pygments_lexer": "ipython3",
   "version": "3.9.4"
  }
 },
 "nbformat": 4,
 "nbformat_minor": 5
}
