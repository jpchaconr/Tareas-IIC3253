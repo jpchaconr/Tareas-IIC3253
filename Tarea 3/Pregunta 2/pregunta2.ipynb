{
 "cells": [
  {
   "cell_type": "code",
   "execution_count": 88,
   "id": "dff79845",
   "metadata": {},
   "outputs": [],
   "source": [
    "import hashlib\n",
    "import random"
   ]
  },
  {
   "cell_type": "code",
   "execution_count": 90,
   "id": "bafa0d7a",
   "metadata": {},
   "outputs": [],
   "source": [
    "def exp_mod(a: int , b: int , n: int) -> int:\n",
    "    # Argumentos:\n",
    "    #    a: int - a >= 0\n",
    "    #    b: int - b >= 0\n",
    "    #    n: int - n > 0\n",
    "    # Retorna:\n",
    "    #    int - a**b en  modulo n\n",
    "    if b == 1:\n",
    "        return a % n\n",
    "    if b % 2 == 0: \n",
    "        val = exp_mod(a, b//2, n)\n",
    "        return val*val % n\n",
    "    val = exp_mod(a, (b-1)//2, n)\n",
    "    return val*val*a % n"
   ]
  },
  {
   "cell_type": "code",
   "execution_count": 91,
   "id": "9e027564",
   "metadata": {},
   "outputs": [],
   "source": [
    "def  alg_ext_euclides(a: int , b: int) -> (int , int , int):\n",
    "    # Argumentos :\n",
    "    #    a: int\n",
    "    #    b: int - a >= b >= 0 y a > 0\n",
    "    # Retorna :\n",
    "    #    (int , int , int) - maximo  comun  divisor  MCD(a,b) entre a y b,\n",
    "    #    y numeros  enteros s y t tales  que MCD(a,b) = s*a + t*b\n",
    "    values = {'s_i-1': 1, 's_i': 0, 's_i+1': 0, 't_i-1': 0, 't_i': 1, \n",
    "              't_i+1': 0, 'r_i-1': a, 'r_i': b, 'r_i+1': 0}\n",
    "    while values['r_i'] != 0:\n",
    "        values['q_i'] = values['r_i-1'] // values['r_i']\n",
    "        values['r_i+1'] = values['r_i-1'] % values['r_i']\n",
    "        values['s_i+1'] = values['s_i-1'] - values['q_i']*values['s_i']\n",
    "        values['t_i+1'] = values['t_i-1'] - values['q_i']*values['t_i']\n",
    "        values['r_i-1'] = values['r_i']\n",
    "        values['s_i-1'] = values['s_i']\n",
    "        values['t_i-1'] = values['t_i']\n",
    "        values['r_i'] = values['r_i+1']\n",
    "        values['s_i'] = values['s_i+1']\n",
    "        values['t_i'] = values['t_i+1']\n",
    "    return (values['r_i-1'],values['s_i-1'],values['t_i-1'])"
   ]
  },
  {
   "cell_type": "code",
   "execution_count": 92,
   "id": "1cff34e2",
   "metadata": {},
   "outputs": [],
   "source": [
    "def inverso(a: int , n: int) -> int:\n",
    "    # Argumentos:\n",
    "    #    a: int - a >= 1\n",
    "    #    n: int - n >= 2, a y n son  primos  relativos\n",
    "    # Retorna:\n",
    "    #    int - inverso  de a en  modulo n\n",
    "    inverso = alg_ext_euclides(n, a)[2]\n",
    "    if inverso < 0:\n",
    "        return inverso + n\n",
    "    return inverso"
   ]
  },
  {
   "cell_type": "code",
   "execution_count": 89,
   "id": "51ab3f99",
   "metadata": {},
   "outputs": [],
   "source": [
    "def get_parameters():\n",
    "    with open('grupo.txt') as file:\n",
    "        lines = file.readlines()\n",
    "    values = {}\n",
    "    for line in lines:\n",
    "        sep = line.split('=')\n",
    "        values[sep[0]] = sep[1]\n",
    "    return int(values['p'], 16), int(values['g'], 16), int(values['q'], 16)"
   ]
  },
  {
   "cell_type": "code",
   "execution_count": 303,
   "id": "c91cd9a6",
   "metadata": {},
   "outputs": [],
   "source": [
    "def  generar_clave_ElGamal():\n",
    "    # Retorna :\n",
    "    #    Genera  una  clave  privada y una  clave  publica  segun el  protocolo\n",
    "    #    critografico  ElGamal , para el  grupo  almacenado  en  grupo.txt.\n",
    "    #    Almacena  la  clave  privada  en  private_key.txt , y la  clave  publica\n",
    "    #    en  public_key.txt.\n",
    "    p, g, q = get_parameters()\n",
    "    x = random.randint(1, q - 1)\n",
    "    y = exp_mod(g, x, p)\n",
    "    with open('private_key.txt', 'w') as file:\n",
    "        file.write(str(x))\n",
    "    with open('public_key.txt', 'w') as file:\n",
    "        file.write(str(y))"
   ]
  },
  {
   "cell_type": "code",
   "execution_count": 304,
   "id": "572e53df",
   "metadata": {},
   "outputs": [],
   "source": [
    "def  firmar_Schnorr(m: str) -> (int ,int):\n",
    "    # Argumentos :\n",
    "    #    m: str - mensaje\n",
    "    # Retorna :\n",
    "    #    (int ,int) - firma de  Schnorr (e,s) del  mensaje m segun la  clave\n",
    "    #    privada  almacenada  en  private_key.txt , para el  grupo  almacenado\n",
    "    #    en  grupo.txt\n",
    "    p, g, q = get_parameters()\n",
    "    with open('private_key.txt', 'r') as file:\n",
    "        private_key = int(file.readline())\n",
    "    with open('public_key.txt', 'r') as file:\n",
    "        public_key = int(file.readline())\n",
    "    k = random.randint(1, q - 1)\n",
    "    r = exp_mod(g, k, p)\n",
    "    e = md5(str(r) + m)\n",
    "    s = k - private_key * e\n",
    "    return (e, s)"
   ]
  },
  {
   "cell_type": "code",
   "execution_count": 411,
   "id": "f051207f",
   "metadata": {},
   "outputs": [],
   "source": [
    "def  verificar_firma_Schnorr(m: str , firma: (int ,int)) -> bool:\n",
    "    # Argumentos :\n",
    "    #    m: str - mensaje\n",
    "    #    firma: (int ,int) - firma de  Schnorr (e,s) para m\n",
    "    #Retorna :\n",
    "    #    bool - retorna  True si para el  usario  con  clave  publica\n",
    "    #    almacenada  en  public_key.txt , el par (e,s) es una  firma de\n",
    "    #    Schnorr  correcta  para el  mensaje m, en el  grupo  almacenado  en\n",
    "    #    grupo.txt. En caso  contrario  retorna  False\n",
    "    p, g, q = get_parameters()\n",
    "    e, s = firma\n",
    "    with open('public_key.txt', 'r') as file:\n",
    "        public_key = int(file.readline())\n",
    "    if s < 0:\n",
    "        s2 = inverso(exp_mod(g, -s, p), p)\n",
    "        r_prime = (s2 * exp_mod(public_key,e,p)) % p\n",
    "    else:\n",
    "        r_prime = (exp_mod(g,s,p) * exp_mod(public_key,e,p)) % p\n",
    "    return md5(str(r_prime) + m) == e"
   ]
  },
  {
   "cell_type": "code",
   "execution_count": 412,
   "id": "aa2d9605",
   "metadata": {},
   "outputs": [],
   "source": [
    "def  md5(m: str) -> int:\n",
    "    # Argumentos :\n",
    "    #    m: str - mensaje\n",
    "    #Retorna :\n",
    "    #    int - valor de la  funcion  de hash  MD5  aplicada  sobre m\n",
    "    hashed_m = hashlib.md5(bytes(m, encoding='utf-8')).hexdigest()\n",
    "    return int(hashed_m, 16)"
   ]
  },
  {
   "cell_type": "code",
   "execution_count": 426,
   "id": "f029f145",
   "metadata": {},
   "outputs": [],
   "source": [
    "generar_clave_ElGamal()"
   ]
  },
  {
   "cell_type": "code",
   "execution_count": 427,
   "id": "8f73ab6b",
   "metadata": {},
   "outputs": [],
   "source": [
    "firma = firmar_Schnorr('firma dïgîtál!')"
   ]
  },
  {
   "cell_type": "code",
   "execution_count": 428,
   "id": "3ff52fd4",
   "metadata": {},
   "outputs": [
    {
     "data": {
      "text/plain": [
       "True"
      ]
     },
     "execution_count": 428,
     "metadata": {},
     "output_type": "execute_result"
    }
   ],
   "source": [
    "verificar_firma_Schnorr('firma dïgîtál!', firma)"
   ]
  },
  {
   "cell_type": "code",
   "execution_count": 420,
   "id": "0b442185",
   "metadata": {},
   "outputs": [],
   "source": [
    "firma = firmar_Schnorr('firma dïgîtál!~')"
   ]
  },
  {
   "cell_type": "code",
   "execution_count": 421,
   "id": "5633957f",
   "metadata": {},
   "outputs": [
    {
     "data": {
      "text/plain": [
       "False"
      ]
     },
     "execution_count": 421,
     "metadata": {},
     "output_type": "execute_result"
    }
   ],
   "source": [
    "verificar_firma_Schnorr('firma dïgîtál!^', firma)"
   ]
  },
  {
   "cell_type": "code",
   "execution_count": null,
   "id": "4ef6cf81",
   "metadata": {},
   "outputs": [],
   "source": []
  }
 ],
 "metadata": {
  "kernelspec": {
   "display_name": "Python 3",
   "language": "python",
   "name": "python3"
  },
  "language_info": {
   "codemirror_mode": {
    "name": "ipython",
    "version": 3
   },
   "file_extension": ".py",
   "mimetype": "text/x-python",
   "name": "python",
   "nbconvert_exporter": "python",
   "pygments_lexer": "ipython3",
   "version": "3.9.4"
  }
 },
 "nbformat": 4,
 "nbformat_minor": 5
}
