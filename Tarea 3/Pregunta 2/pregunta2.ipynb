{
 "cells": [
  {
   "cell_type": "code",
   "execution_count": 2,
   "id": "c91cd9a6",
   "metadata": {},
   "outputs": [],
   "source": [
    "def  generar_clave_ElGamal():\n",
    "    # Retorna :\n",
    "    #    Genera  una  clave  privada y una  clave  publica  segun el  protocolo\n",
    "    #    critografico  ElGamal , para el  grupo  almacenado  en  grupo.txt.\n",
    "    #    Almacena  la  clave  privada  en  private_key.txt , y la  clave  publica\n",
    "    #    en  public_key.txt.\n",
    "    pass"
   ]
  },
  {
   "cell_type": "code",
   "execution_count": 3,
   "id": "572e53df",
   "metadata": {},
   "outputs": [],
   "source": [
    "def  firmar_Schnorr(m: str) -> (int ,int):\n",
    "    # Argumentos :\n",
    "    #    m: str - mensaje\n",
    "    # Retorna :\n",
    "    #    (int ,int) - firma de  Schnorr (e,s) del  mensaje m segun la  clave\n",
    "    #    privada  almacenada  en  private_key.txt , para el  grupo  almacenado\n",
    "    #    en  grupo.txt\n",
    "    pass"
   ]
  },
  {
   "cell_type": "code",
   "execution_count": 5,
   "id": "f051207f",
   "metadata": {},
   "outputs": [],
   "source": [
    "def  verificar_firma_Schnorr(m: str , firma: (int ,int)) -> bool:\n",
    "    # Argumentos :\n",
    "    #    m: str - mensaje\n",
    "    #    firma: (int ,int) - firma de  Schnorr (e,s) para m\n",
    "    #Retorna :\n",
    "    #    bool - retorna  True si para el  usario  con  clave  publica\n",
    "    #    almacenada  en  public_key.txt , el par (e,s) es una  firma de\n",
    "    #    Schnorr  correcta  para el  mensaje m, en el  grupo  almacenado  en\n",
    "    #    grupo.txt. En caso  contrario  retorna  False\n",
    "    pass"
   ]
  },
  {
   "cell_type": "code",
   "execution_count": 6,
   "id": "aa2d9605",
   "metadata": {},
   "outputs": [],
   "source": [
    "def  md5(m: str) -> int:\n",
    "    # Argumentos :\n",
    "    #    m: str - mensaje\n",
    "    #Retorna :\n",
    "    #    int - valor de la  funcion  de hash  MD5  aplicada  sobre m\n",
    "    pass"
   ]
  },
  {
   "cell_type": "code",
   "execution_count": null,
   "id": "140d0aff",
   "metadata": {},
   "outputs": [],
   "source": []
  }
 ],
 "metadata": {
  "kernelspec": {
   "display_name": "Python 3",
   "language": "python",
   "name": "python3"
  },
  "language_info": {
   "codemirror_mode": {
    "name": "ipython",
    "version": 3
   },
   "file_extension": ".py",
   "mimetype": "text/x-python",
   "name": "python",
   "nbconvert_exporter": "python",
   "pygments_lexer": "ipython3",
   "version": "3.9.4"
  }
 },
 "nbformat": 4,
 "nbformat_minor": 5
}
