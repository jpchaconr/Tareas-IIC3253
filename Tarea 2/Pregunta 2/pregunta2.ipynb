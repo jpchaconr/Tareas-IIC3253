{
 "cells": [
  {
   "cell_type": "code",
   "execution_count": 15,
   "id": "3a9aee4b",
   "metadata": {},
   "outputs": [],
   "source": [
    "import random"
   ]
  },
  {
   "cell_type": "code",
   "execution_count": 16,
   "id": "364d508d",
   "metadata": {},
   "outputs": [],
   "source": [
    "def MCD(a, b):\n",
    "    if b == 0:\n",
    "        return a\n",
    "    return MCD(b, a % b)"
   ]
  },
  {
   "cell_type": "code",
   "execution_count": 17,
   "id": "f2f6aef4",
   "metadata": {},
   "outputs": [],
   "source": [
    "def  miller_rabin(n: int , k: int) -> bool:\n",
    "    # Argumentos:\n",
    "    #    n: int - n >= 1\n",
    "    #    k: int - k >= 1\n",
    "    # Retorna:\n",
    "    #    int - True si n es un  numero  primo , y False en caso  contrario.\n",
    "    #           La  probabilidad  de  error en el test  debe  ser  menor o\n",
    "    #           igual a 2**(-k)\n",
    "    d = n - 1\n",
    "    r = 0\n",
    "    while d % 2 == 0:\n",
    "        d = d // 2\n",
    "        r += 1\n",
    "    for _ in range(k):\n",
    "        next_k = False\n",
    "        a = random.randint(2, n - 2)\n",
    "        x = exp_mod(a,d,n)\n",
    "        if x == 1 or x == n - 1:\n",
    "            continue\n",
    "        for _ in range(r - 1):\n",
    "            x = exp_mod(x,2,n)\n",
    "            if x == n - 1:\n",
    "                next_k = True\n",
    "                break\n",
    "        if next_k: \n",
    "            continue\n",
    "        return False\n",
    "    return True"
   ]
  },
  {
   "cell_type": "code",
   "execution_count": 18,
   "id": "88f3df2e",
   "metadata": {},
   "outputs": [],
   "source": [
    "def  generar_primo(l: int) -> int:\n",
    "    # Argumentos:\n",
    "    #    l: int - l >= 1\n",
    "    # Retorna:\n",
    "    #    int - numero  primo  con al  menos l digitos. La  probabilidad  de\n",
    "    #    error en la  generacion  debe  ser  menor o igual a 2**(-100)\n",
    "    while True:\n",
    "        num = random.randint(10**(l-1), 10**l - 1)\n",
    "        if miller_rabin(num, 100):\n",
    "            return num"
   ]
  },
  {
   "cell_type": "code",
   "execution_count": 19,
   "id": "b6b953ba",
   "metadata": {},
   "outputs": [],
   "source": [
    "def  alg_ext_euclides(a: int , b: int) -> (int , int , int):\n",
    "    # Argumentos :\n",
    "    #    a: int\n",
    "    #    b: int - a >= b >= 0 y a > 0\n",
    "    # Retorna :\n",
    "    #    (int , int , int) - maximo  comun  divisor  MCD(a,b) entre a y b,\n",
    "    #    y numeros  enteros s y t tales  que MCD(a,b) = s*a + t*b\n",
    "    values = {'s_i-1': 1, 's_i': 0, 's_i+1': 0, 't_i-1': 0, 't_i': 1, \n",
    "              't_i+1': 0, 'r_i-1': a, 'r_i': b, 'r_i+1': 0}\n",
    "    while values['r_i'] != 0:\n",
    "        values['q_i'] = values['r_i-1'] // values['r_i']\n",
    "        values['r_i+1'] = values['r_i-1'] % values['r_i']\n",
    "        values['s_i+1'] = values['s_i-1'] - values['q_i']*values['s_i']\n",
    "        values['t_i+1'] = values['t_i-1'] - values['q_i']*values['t_i']\n",
    "        values['r_i-1'] = values['r_i']\n",
    "        values['s_i-1'] = values['s_i']\n",
    "        values['t_i-1'] = values['t_i']\n",
    "        values['r_i'] = values['r_i+1']\n",
    "        values['s_i'] = values['s_i+1']\n",
    "        values['t_i'] = values['t_i+1']\n",
    "    return (values['r_i-1'],values['s_i-1'],values['t_i-1'])"
   ]
  },
  {
   "cell_type": "code",
   "execution_count": 20,
   "id": "4d8dd448",
   "metadata": {},
   "outputs": [],
   "source": [
    "def exp_mod(a: int , b: int , n: int) -> int:\n",
    "    # Argumentos:\n",
    "    #    a: int - a >= 0\n",
    "    #    b: int - b >= 0\n",
    "    #    n: int - n > 0\n",
    "    # Retorna:\n",
    "    #    int - a**b en  modulo n\n",
    "    if b == 1:\n",
    "        return a % n\n",
    "    if b % 2 == 0: \n",
    "        val = exp_mod(a, b//2, n)\n",
    "        return val*val % n\n",
    "    val = exp_mod(a, (b-1)//2, n)\n",
    "    return val*val*a % n"
   ]
  },
  {
   "cell_type": "code",
   "execution_count": 21,
   "id": "fc9afcee",
   "metadata": {},
   "outputs": [],
   "source": [
    "def inverso(a: int , n: int) -> int:\n",
    "    # Argumentos:\n",
    "    #    a: int - a >= 1\n",
    "    #    n: int - n >= 2, a y n son  primos  relativos\n",
    "    # Retorna:\n",
    "    #    int - inverso  de a en  modulo n\n",
    "    inverso = alg_ext_euclides(n, a)[2]\n",
    "    if inverso < 0:\n",
    "        return inverso + n\n",
    "    return inverso"
   ]
  },
  {
   "cell_type": "code",
   "execution_count": 22,
   "id": "6abe1e9f",
   "metadata": {},
   "outputs": [],
   "source": [
    "def  generar_clave(l: int):\n",
    "    # Argumentos:\n",
    "    #    l: int - largo de las  claves a ser  generadas\n",
    "    # Retorna:\n",
    "    #    genera  una  clave  privada (d,N) y una  clave  publica (e,N) tales\n",
    "    #    que d, e y N tienen  al  menos l digitos. La  clave  privada  debe\n",
    "    #    ser  almacenada  en un  archivo  private_key.txt en el  formato:\n",
    "    #    d\n",
    "    #    N\n",
    "    #    La  clave  publica  debe  ser  almacenada  de la  misma  forma en\n",
    "    #    en un  archivo  public_key.txt\n",
    "    P = generar_primo((l // 2) + 1)\n",
    "    Q = generar_primo((l // 2) + 1)\n",
    "    N = P*Q\n",
    "    phi_N = (P-1)*(Q-1)\n",
    "\n",
    "    d = random.randint(3,phi_N)\n",
    "    while MCD(d, phi_N) != 1:\n",
    "        d = random.randint(3,phi_N)\n",
    "        \n",
    "    e = inverso(d, phi_N)\n",
    "    \n",
    "    with open(\"private_key.txt\", \"w\") as file:\n",
    "        file.write(str(d))\n",
    "        file.write('\\n')\n",
    "        file.write(str(N))\n",
    "        file.write('\\n')\n",
    "    \n",
    "    with open(\"public_key.txt\", \"w\") as file:\n",
    "        file.write(str(e))\n",
    "        file.write('\\n')\n",
    "        file.write(str(N))\n",
    "        file.write('\\n')"
   ]
  },
  {
   "cell_type": "code",
   "execution_count": 23,
   "id": "1adb5c22",
   "metadata": {},
   "outputs": [],
   "source": [
    "def  enc(m: int) -> int:\n",
    "    # Argumentos:\n",
    "    #    m: int - 0 <= m <= N-1, suponiendo  que la  clave  publica\n",
    "    #    almacenada  en  public_key.txt es (e,N)\n",
    "    # Retorna:\n",
    "    #    int: cifrado  de m de  acuerdo  con la  clave  publica  almacenada\n",
    "    #    en  public_key.txt\n",
    "    with open(\"public_key.txt\", \"r\") as file:\n",
    "        lines = file.readlines()\n",
    "    e, N = lines[:2]\n",
    "    return exp_mod(m,int(e),int(N))"
   ]
  },
  {
   "cell_type": "code",
   "execution_count": 24,
   "id": "697d62f6",
   "metadata": {},
   "outputs": [],
   "source": [
    "def  dec(c: int) -> int:\n",
    "    # Argumentos:\n",
    "    #    m: int - 0 <= m <= N-1, suponiendo  que la  clave  privada\n",
    "    #    almacenada  en  private_key.txt es (d,N)\n",
    "    # Retorna:\n",
    "    #    int: descifrado  de m de  acuerdo  con la  clave  privada\n",
    "    #    almacenada  en  private_key.txt\n",
    "    with open(\"private_key.txt\", \"r\") as file:\n",
    "        lines = file.readlines()\n",
    "    d, N = lines[:2]\n",
    "    return exp_mod(c,int(d),int(N))"
   ]
  },
  {
   "cell_type": "code",
   "execution_count": 25,
   "id": "4fff03a4",
   "metadata": {},
   "outputs": [],
   "source": [
    "generar_clave(300)"
   ]
  },
  {
   "cell_type": "code",
   "execution_count": 26,
   "id": "0cd8e455",
   "metadata": {},
   "outputs": [],
   "source": [
    "c = enc(123)"
   ]
  },
  {
   "cell_type": "code",
   "execution_count": 27,
   "id": "b59d6e08",
   "metadata": {},
   "outputs": [
    {
     "data": {
      "text/plain": [
       "123"
      ]
     },
     "execution_count": 27,
     "metadata": {},
     "output_type": "execute_result"
    }
   ],
   "source": [
    "dec(c)"
   ]
  },
  {
   "cell_type": "code",
   "execution_count": null,
   "id": "698fa9f2",
   "metadata": {},
   "outputs": [],
   "source": []
  }
 ],
 "metadata": {
  "kernelspec": {
   "display_name": "Python 3",
   "language": "python",
   "name": "python3"
  },
  "language_info": {
   "codemirror_mode": {
    "name": "ipython",
    "version": 3
   },
   "file_extension": ".py",
   "mimetype": "text/x-python",
   "name": "python",
   "nbconvert_exporter": "python",
   "pygments_lexer": "ipython3",
   "version": "3.9.4"
  }
 },
 "nbformat": 4,
 "nbformat_minor": 5
}
